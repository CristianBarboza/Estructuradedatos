{
  "nbformat": 4,
  "nbformat_minor": 0,
  "metadata": {
    "colab": {
      "name": "Listas_EDD",
      "provenance": [],
      "authorship_tag": "ABX9TyNrEukxLm0aN5tP5TApODI/",
      "include_colab_link": true
    },
    "kernelspec": {
      "name": "python3",
      "display_name": "Python 3"
    },
    "language_info": {
      "name": "python"
    }
  },
  "cells": [
    {
      "cell_type": "markdown",
      "metadata": {
        "id": "view-in-github",
        "colab_type": "text"
      },
      "source": [
        "<a href=\"https://colab.research.google.com/github/CristianBarboza/Estructuradedatos/blob/main/Listas_EDD.ipynb\" target=\"_parent\"><img src=\"https://colab.research.google.com/assets/colab-badge.svg\" alt=\"Open In Colab\"/></a>"
      ]
    },
    {
      "cell_type": "code",
      "metadata": {
        "id": "pAR6TftIR71A"
      },
      "source": [
        "class Nodo :\n",
        "  def __init__(self , value , siguiente=None):\n",
        "    self.data = value\n",
        "    self.next = siguiente\n",
        "  \n",
        "\n",
        "    \n"
      ],
      "execution_count": 10,
      "outputs": []
    },
    {
      "cell_type": "code",
      "metadata": {
        "id": "zhUKSRqiTgOw"
      },
      "source": [
        "print(\"Primera forma\")\n",
        "head = Nodo (30)\n",
        "print(head.data)\n",
        "print(head.next)\n",
        "print(\"head 2\")\n",
        "head2 = Nodo(20)\n",
        "head2.next = Nodo(15)\n",
        "head2.next.next=Nodo(10)\n",
        "print(head2.next.next.data)\n",
        "\n",
        "print(\"Hacer lo mismo pero con el segundo metodo \")\n",
        "punto_entrada = Nodo(20,Nodo(15))\n",
        "print(punto_entrada.data)\n",
        "print(punto_entrada.next.data)\n",
        "\n"
      ],
      "execution_count": null,
      "outputs": []
    }
  ]
}